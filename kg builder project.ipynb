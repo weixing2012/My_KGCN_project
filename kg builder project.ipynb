{
 "cells": [
  {
   "cell_type": "code",
   "execution_count": null,
   "metadata": {},
   "outputs": [],
   "source": [
    "'kg builder'\n",
    "factor to kg transformer\n",
    "##1.transfer other format to csv\n",
    "\n",
    "    display column name\n",
    "    \n",
    "##2.enter the column you dont need\n",
    "    determine relation between each rows.\n",
    "##3.record the attributes name as relation name.\n",
    "    \n",
    "##4.transfer the row to 2 columns per row\n",
    "\n",
    "##5. delete duplicate and non row\n",
    "\n",
    "##6. insert relation to \n",
    "\n",
    "\n"
   ]
  }
 ],
 "metadata": {
  "kernelspec": {
   "display_name": "Python 3",
   "language": "python",
   "name": "python3"
  },
  "language_info": {
   "codemirror_mode": {
    "name": "ipython",
    "version": 3
   },
   "file_extension": ".py",
   "mimetype": "text/x-python",
   "name": "python",
   "nbconvert_exporter": "python",
   "pygments_lexer": "ipython3",
   "version": "3.7.4"
  }
 },
 "nbformat": 4,
 "nbformat_minor": 2
}
